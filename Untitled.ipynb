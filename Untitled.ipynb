{
 "cells": [
  {
   "cell_type": "code",
   "execution_count": 1,
   "metadata": {},
   "outputs": [
    {
     "name": "stderr",
     "output_type": "stream",
     "text": [
      "'pwd' is not recognized as an internal or external command,\n",
      "operable program or batch file.\n"
     ]
    }
   ],
   "source": [
    "!pwd"
   ]
  },
  {
   "cell_type": "code",
   "execution_count": 3,
   "metadata": {},
   "outputs": [
    {
     "name": "stdout",
     "output_type": "stream",
     "text": [
      " Volume in drive C is Drive\n",
      " Volume Serial Number is 864F-BD6E\n",
      "\n",
      " Directory of C:\\Users\\labadmin\\Documents\\VisExp\n",
      "\n",
      "07/09/2017  11:22 AM    <DIR>          .\n",
      "07/09/2017  11:22 AM    <DIR>          ..\n",
      "06/28/2017  09:55 AM             1,276 .gitignore\n",
      "07/09/2017  11:22 AM    <DIR>          .ipynb_checkpoints\n",
      "07/09/2017  11:22 AM    <DIR>          Analysis\n",
      "06/28/2017  02:47 PM    <DIR>          calib\n",
      "07/07/2017  11:18 AM            10,002 Calib.psyexp\n",
      "07/07/2017  01:01 PM            10,569 Calib.py\n",
      "07/07/2017  01:01 PM             6,641 Calib.pyc\n",
      "06/28/2017  09:55 AM               494 Calib_Analysis.py\n",
      "07/07/2017  11:19 AM             8,314 Calib_lastrun.py\n",
      "06/28/2017  09:55 AM             8,646 Calib_params.xlsx\n",
      "07/09/2017  11:21 AM    <DIR>          data\n",
      "07/07/2017  03:03 PM            10,376 Grating.psyexp\n",
      "07/09/2017  11:21 AM            11,263 Grating.py\n",
      "07/09/2017  11:21 AM             6,687 Grating.pyc\n",
      "07/07/2017  03:02 PM            11,197 Grating_lastrun.py\n",
      "07/07/2017  03:17 PM             8,397 Grating_params.xlsx\n",
      "06/27/2017  02:11 PM             1,088 LICENSE\n",
      "07/07/2017  01:51 PM            14,642 RF.psyexp\n",
      "07/07/2017  02:20 PM            13,561 RF.py\n",
      "07/07/2017  02:37 PM             7,861 RF.pyc\n",
      "07/07/2017  01:42 PM            13,585 RF_lastrun.py\n",
      "07/07/2017  01:42 PM             8,205 RF_params.xlsx\n",
      "07/01/2017  05:35 PM             5,526 Test_U3.py\n",
      "07/01/2017  05:38 PM             4,374 Test_U3.pyc\n",
      "07/05/2017  11:20 AM             7,611 Text\n",
      "07/05/2017  11:20 AM             6,196 Text.psyexp\n",
      "07/05/2017  11:20 AM             7,576 Text.py\n",
      "07/09/2017  11:18 AM               128 trials.mat\n",
      "07/09/2017  11:21 AM             8,079 trials.p\n",
      "07/09/2017  11:22 AM                72 Untitled.ipynb\n",
      "07/07/2017  01:14 PM             5,329 untitled.psyexp\n",
      "07/07/2017  01:28 PM             6,700 untitled_lastrun.py\n",
      "              28 File(s)        204,395 bytes\n",
      "               6 Dir(s)  212,779,675,648 bytes free\n"
     ]
    }
   ],
   "source": [
    "!dir\n"
   ]
  },
  {
   "cell_type": "code",
   "execution_count": 4,
   "metadata": {
    "collapsed": true
   },
   "outputs": [],
   "source": [
    "import pickle"
   ]
  },
  {
   "cell_type": "code",
   "execution_count": 5,
   "metadata": {
    "collapsed": true
   },
   "outputs": [],
   "source": [
    "trials = pickle.load(open('trials.p', 'rb'))"
   ]
  },
  {
   "cell_type": "code",
   "execution_count": 6,
   "metadata": {},
   "outputs": [
    {
     "data": {
      "text/plain": [
       "psychopy.data.TrialHandler(\n",
       "\tdata={'ran': masked_array(data =\n",
       " [[0.0 0.0 0.0 0.0 0.0 0.0 0.0 0.0 0.0 0.0]\n",
       " [0.0 0.0 0.0 0.0 0.0 0.0 0.0 0.0 0.0 0.0]\n",
       " [0.0 0.0 0.0 0.0 0.0 0.0 0.0 0.0 0.0 0.0]\n",
       " [0.0 0.0 0.0 0.0 0.0 0.0 0.0 0.0 0.0 0.0]\n",
       " [0.0 0.0 0.0 0.0 0.0 0.0 0.0 0.0 0.0 0.0]\n",
       " [0.0 0.0 0.0 0.0 0.0 0.0 0.0 0.0 0.0 0.0]\n",
       " [0.0 0.0 0.0 0.0 0.0 0.0 0.0 0.0 0.0 0.0]\n",
       " [0.0 0.0 0.0 0.0 0.0 0.0 0.0 0.0 0.0 0.0]],\n",
       "             mask =\n",
       " [[False False False False False False False False False False]\n",
       " [False False False False False False False False False False]\n",
       " [False False False False False False False False False False]\n",
       " [False False False False False False False False False False]\n",
       " [False False False False False False False False False False]\n",
       " [False False False False False False False False False False]\n",
       " [False False False False False False False False False False]\n",
       " [False False False False False False False False False False]],\n",
       "       fill_value = 1e+20)\n",
       ", 'order': masked_array(data =\n",
       " [[-- -- -- -- -- -- -- -- -- --]\n",
       " [-- -- -- -- -- -- -- -- -- --]\n",
       " [-- -- -- -- -- -- -- -- -- --]\n",
       " [-- -- -- -- -- -- -- -- -- --]\n",
       " [-- -- -- -- -- -- -- -- -- --]\n",
       " [-- -- -- -- -- -- -- -- -- --]\n",
       " [-- -- -- -- -- -- -- -- -- --]\n",
       " [-- -- -- -- -- -- -- -- -- --]],\n",
       "             mask =\n",
       " [[ True  True  True  True  True  True  True  True  True  True]\n",
       " [ True  True  True  True  True  True  True  True  True  True]\n",
       " [ True  True  True  True  True  True  True  True  True  True]\n",
       " [ True  True  True  True  True  True  True  True  True  True]\n",
       " [ True  True  True  True  True  True  True  True  True  True]\n",
       " [ True  True  True  True  True  True  True  True  True  True]\n",
       " [ True  True  True  True  True  True  True  True  True  True]\n",
       " [ True  True  True  True  True  True  True  True  True  True]],\n",
       "       fill_value = 1e+20)\n",
       "}\n",
       "\tautoLog=True\n",
       "\textraInfo={'date': u'2017_Jul_09_1121', u'participant': u'ANM1', 'expName': 'Grating', u'Run': u'1', 'frameRate': 59.931274912800674}\n",
       "\tfinished=False\n",
       "\tmethod=sequential\n",
       "\tnRemaining=80\n",
       "\tnReps=10\n",
       "\tnTotal=80\n",
       "\tname=trials\n",
       "\torigin=None\n",
       "\toriginPath=-1\n",
       "\tseed=None\n",
       "\tsequenceIndices=[[0 0 0 0 0 0 0 0 0 0]\n",
       " [1 1 1 1 1 1 1 1 1 1]\n",
       " [2 2 2 2 2 2 2 2 2 2]\n",
       " [3 3 3 3 3 3 3 3 3 3]\n",
       " [4 4 4 4 4 4 4 4 4 4]\n",
       " [5 5 5 5 5 5 5 5 5 5]\n",
       " [6 6 6 6 6 6 6 6 6 6]\n",
       " [7 7 7 7 7 7 7 7 7 7]]\n",
       "\tthisIndex=0\n",
       "\tthisN=-1\n",
       "\tthisRepN=0\n",
       "\tthisTrial=[]\n",
       "\tthisTrialN=-1\n",
       "\ttrialList=[{'freq': 1, 'sf': 0.029999999999999999, 'pos': [0, 0], 'ori': 0}, {'freq': 1, 'sf': 0.029999999999999999, 'pos': [0, 0], 'ori': 45}, {'freq': 1, 'sf': 0.029999999999999999, 'pos': [0, 0], 'ori': 90}, {'freq': 1, 'sf': 0.029999999999999999, 'pos': [0, 0], 'ori': 135}, {'freq': 1, 'sf': 0.029999999999999999, 'pos': [0, 0], 'ori': 180}, {'freq': 1, 'sf': 0.029999999999999999, 'pos': [0, 0], 'ori': 225}, {'freq': 1, 'sf': 0.029999999999999999, 'pos': [0, 0], 'ori': 270}, {'freq': 1, 'sf': 0.029999999999999999, 'pos': [0, 0], 'ori': 315}]\n",
       ")"
      ]
     },
     "execution_count": 6,
     "metadata": {},
     "output_type": "execute_result"
    }
   ],
   "source": [
    "trials"
   ]
  },
  {
   "cell_type": "code",
   "execution_count": null,
   "metadata": {
    "collapsed": true
   },
   "outputs": [],
   "source": []
  }
 ],
 "metadata": {
  "kernelspec": {
   "display_name": "visexp_py27",
   "language": "python",
   "name": "visexp"
  },
  "language_info": {
   "codemirror_mode": {
    "name": "ipython",
    "version": 2
   },
   "file_extension": ".py",
   "mimetype": "text/x-python",
   "name": "python",
   "nbconvert_exporter": "python",
   "pygments_lexer": "ipython2",
   "version": "2.7.13"
  }
 },
 "nbformat": 4,
 "nbformat_minor": 2
}
